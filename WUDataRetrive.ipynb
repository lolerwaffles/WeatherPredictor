{
 "cells": [
  {
   "cell_type": "code",
   "execution_count": 1,
   "metadata": {},
   "outputs": [],
   "source": [
    "import urllib,json, csv, pandas, arrow, time"
   ]
  },
  {
   "cell_type": "code",
   "execution_count": 2,
   "metadata": {},
   "outputs": [],
   "source": [
    "WU_APIkey = '4166ee973abae926'\n",
    "zip_code = '76021'"
   ]
  },
  {
   "cell_type": "code",
   "execution_count": 3,
   "metadata": {},
   "outputs": [],
   "source": [
    "f = open(f'his{zip_code}.csv','w')"
   ]
  },
  {
   "cell_type": "code",
   "execution_count": 4,
   "metadata": {},
   "outputs": [],
   "source": [
    "data_list = ('fog', 'rain','snow','monthtodatesnowfalli','hail','thunder','tornado','meantempi', 'meanpressurei', 'meanwindspdi', 'meanwdird', 'humidity', 'maxtempi', 'mintempi', 'precipi')\n",
    "f.write('Date,fog,rain,snow,monthtodatesnowfalli,hail,thunder,tornado,meantempi,meanpressurei,meanwindspdi,meanwdird,humidity,maxtempi,mintempi,precipi,\\n')\n",
    "f.flush()"
   ]
  },
  {
   "cell_type": "code",
   "execution_count": null,
   "metadata": {
    "scrolled": false
   },
   "outputs": [],
   "source": [
    "dataDays = 7000\n",
    "while dataDays >= 0:\n",
    "    date = arrow.utcnow().shift(days=-dataDays).format('YYYYMMDD')\n",
    "    with urllib.request.urlopen(f'http://api.wunderground.com/api/{WU_APIkey}/history_{date}/q/{zip_code}.json') as url:\n",
    "        histData = json.loads(url.read().decode())\n",
    "    f.write(f'{date},')\n",
    "    for j in data_list:\n",
    "        if histData['history']['dailysummary'][0][j] == '' or histData['history']['dailysummary'][0][j] == 'T':\n",
    "            f.write('0')\n",
    "        else:\n",
    "            f.write(histData['history']['dailysummary'][0][j])\n",
    "        f.write(',')\n",
    "    f.write('\\n')\n",
    "    time.sleep(10)\n",
    "    f.flush()\n",
    "    dataDays -= 1"
   ]
  },
  {
   "cell_type": "code",
   "execution_count": 8,
   "metadata": {
    "scrolled": true
   },
   "outputs": [
    {
     "data": {
      "text/plain": [
       "'20180801'"
      ]
     },
     "execution_count": 8,
     "metadata": {},
     "output_type": "execute_result"
    }
   ],
   "source": []
  },
  {
   "cell_type": "code",
   "execution_count": null,
   "metadata": {},
   "outputs": [],
   "source": []
  }
 ],
 "metadata": {
  "kernelspec": {
   "display_name": "Python 3",
   "language": "python",
   "name": "python3"
  },
  "language_info": {
   "codemirror_mode": {
    "name": "ipython",
    "version": 3
   },
   "file_extension": ".py",
   "mimetype": "text/x-python",
   "name": "python",
   "nbconvert_exporter": "python",
   "pygments_lexer": "ipython3",
   "version": "3.6.5"
  }
 },
 "nbformat": 4,
 "nbformat_minor": 2
}
